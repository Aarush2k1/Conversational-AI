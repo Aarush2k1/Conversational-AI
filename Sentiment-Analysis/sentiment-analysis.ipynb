{
 "cells": [
  {
   "cell_type": "markdown",
   "id": "986cb047",
   "metadata": {},
   "source": [
    "## Text Classification-sentiment analysis\n",
    "Twitter Data\n",
    "- Concept of validation set\n",
    "- Overfitting\n",
    "- L2 Regularization and Dropout Regularization\n",
    "- Transfer learning"
   ]
  },
  {
   "cell_type": "code",
   "execution_count": null,
   "id": "ed74d51b",
   "metadata": {
    "id": "bkyjCvlWSFlw"
   },
   "outputs": [
    {
     "name": "stdout",
     "output_type": "stream",
     "text": [
      "INFO:tensorflow:Enabling eager execution\n",
      "INFO:tensorflow:Enabling v2 tensorshape\n",
      "INFO:tensorflow:Enabling resource variables\n",
      "INFO:tensorflow:Enabling tensor equality\n",
      "INFO:tensorflow:Enabling control flow v2\n"
     ]
    }
   ],
   "source": [
    "import pandas as pd\n",
    "import numpy as np\n",
    "\n",
    "import tensorflow as tf\n",
    "from tensorflow import keras\n",
    "import tensorflow_hub as hub\n",
    "\n",
    "import re\n",
    "import string\n",
    "\n",
    "from sklearn.preprocessing import LabelEncoder\n",
    "from sklearn.model_selection import train_test_split\n",
    "\n",
    "import matplotlib.pyplot as plt\n",
    " "
   ]
  },
  {
   "cell_type": "code",
   "execution_count": null,
   "id": "8972501e",
   "metadata": {
    "id": "pHWFUMy3SvrN"
   },
   "outputs": [],
   "source": [
    "#Load the dataset\n",
    "train_data=pd.read_csv('sentiment_dataset/train.csv')\n",
    "test_data=pd.read_csv('sentiment_dataset/test.csv')"
   ]
  },
  {
   "cell_type": "code",
   "execution_count": null,
   "id": "3f7d8b72",
   "metadata": {
    "id": "41IHwiaPTN5V"
   },
   "outputs": [],
   "source": [
    "#Remove null values from each row\n",
    "train_data.dropna(axis=0,how='any',inplace=True)\n",
    "test_data.dropna(axis=0,how='any',inplace=True)"
   ]
  },
  {
   "cell_type": "code",
   "execution_count": null,
   "id": "1346da6f",
   "metadata": {},
   "outputs": [
    {
     "data": {
      "text/html": [
       "<div>\n",
       "<style scoped>\n",
       "    .dataframe tbody tr th:only-of-type {\n",
       "        vertical-align: middle;\n",
       "    }\n",
       "\n",
       "    .dataframe tbody tr th {\n",
       "        vertical-align: top;\n",
       "    }\n",
       "\n",
       "    .dataframe thead th {\n",
       "        text-align: right;\n",
       "    }\n",
       "</style>\n",
       "<table border=\"1\" class=\"dataframe\">\n",
       "  <thead>\n",
       "    <tr style=\"text-align: right;\">\n",
       "      <th></th>\n",
       "      <th>textID</th>\n",
       "      <th>text</th>\n",
       "      <th>selected_text</th>\n",
       "      <th>sentiment</th>\n",
       "      <th>num_words</th>\n",
       "    </tr>\n",
       "  </thead>\n",
       "  <tbody>\n",
       "    <tr>\n",
       "      <th>0</th>\n",
       "      <td>cb774db0d1</td>\n",
       "      <td>I`d have responded, if I were going</td>\n",
       "      <td>I`d have responded, if I were going</td>\n",
       "      <td>neutral</td>\n",
       "      <td>7</td>\n",
       "    </tr>\n",
       "    <tr>\n",
       "      <th>1</th>\n",
       "      <td>549e992a42</td>\n",
       "      <td>Sooo SAD I will miss you here in San Diego!!!</td>\n",
       "      <td>Sooo SAD</td>\n",
       "      <td>negative</td>\n",
       "      <td>10</td>\n",
       "    </tr>\n",
       "    <tr>\n",
       "      <th>2</th>\n",
       "      <td>088c60f138</td>\n",
       "      <td>my boss is bullying me...</td>\n",
       "      <td>bullying me</td>\n",
       "      <td>negative</td>\n",
       "      <td>5</td>\n",
       "    </tr>\n",
       "    <tr>\n",
       "      <th>3</th>\n",
       "      <td>9642c003ef</td>\n",
       "      <td>what interview! leave me alone</td>\n",
       "      <td>leave me alone</td>\n",
       "      <td>negative</td>\n",
       "      <td>5</td>\n",
       "    </tr>\n",
       "    <tr>\n",
       "      <th>4</th>\n",
       "      <td>358bd9e861</td>\n",
       "      <td>Sons of ****, why couldn`t they put them on t...</td>\n",
       "      <td>Sons of ****,</td>\n",
       "      <td>negative</td>\n",
       "      <td>14</td>\n",
       "    </tr>\n",
       "  </tbody>\n",
       "</table>\n",
       "</div>"
      ],
      "text/plain": [
       "       textID                                               text  \\\n",
       "0  cb774db0d1                I`d have responded, if I were going   \n",
       "1  549e992a42      Sooo SAD I will miss you here in San Diego!!!   \n",
       "2  088c60f138                          my boss is bullying me...   \n",
       "3  9642c003ef                     what interview! leave me alone   \n",
       "4  358bd9e861   Sons of ****, why couldn`t they put them on t...   \n",
       "\n",
       "                         selected_text sentiment  num_words  \n",
       "0  I`d have responded, if I were going   neutral          7  \n",
       "1                             Sooo SAD  negative         10  \n",
       "2                          bullying me  negative          5  \n",
       "3                       leave me alone  negative          5  \n",
       "4                        Sons of ****,  negative         14  "
      ]
     },
     "metadata": {},
     "output_type": "display_data"
    }
   ],
   "source": [
    "train_data.head()"
   ]
  },
  {
   "cell_type": "markdown",
   "id": "9374ca9c",
   "metadata": {},
   "source": [
    "### Data Preprocessing"
   ]
  },
  {
   "cell_type": "code",
   "execution_count": null,
   "id": "ba02b6be",
   "metadata": {
    "id": "P9o9897XTxt-"
   },
   "outputs": [],
   "source": [
    "#Remove rows with less than 3 words\n",
    "train_data['num_words']=train_data['text'].apply(lambda x: len(str(x).split()))\n",
    "mask=train_data['num_words']>2\n",
    "train_data=train_data[mask]\n",
    "\n",
    "test_data['num_words']=test_data['text'].apply(lambda x: len(str(x).split()))\n",
    "mask=test_data['num_words']>2\n",
    "test_data=test_data[mask]"
   ]
  },
  {
   "cell_type": "code",
   "execution_count": null,
   "id": "48e4a896",
   "metadata": {
    "id": "4IqZN21cURBo"
   },
   "outputs": [],
   "source": [
    "#Pre-processing: Remove emoji's,flags, symbols, urls,digits, special characters, etc.\n",
    "def remove_emoji(text):\n",
    "    emoji_pattern = re.compile(\"[\"\n",
    "                           u\"\\U0001F600-\\U0001F64F\"  # emoticons\n",
    "                           u\"\\U0001F300-\\U0001F5FF\"  # symbols & pictographs\n",
    "                           u\"\\U0001F680-\\U0001F6FF\"  # transport & map symbols\n",
    "                           u\"\\U0001F1E0-\\U0001F1FF\"  # flags (iOS)\n",
    "                           u\"\\U00002702-\\U000027B0\"\n",
    "                           u\"\\U000024C2-\\U0001F251\"\n",
    "                           \"]+\", flags=re.UNICODE)\n",
    "    return emoji_pattern.sub(r'', str(text))\n",
    "\n",
    "def remove_url(text): \n",
    "    url_pattern  = re.compile('http[s]?://(?:[a-zA-Z]|[0-9]|[$-_@.&+]|[!*\\(\\),]|(?:%[0-9a-fA-F][0-9a-fA-F]))+')\n",
    "    return url_pattern.sub(r'', text)\n",
    " # converting return value from list to string\n",
    "\n",
    "\n",
    "def clean_text(text ): \n",
    "    delete_dict = {sp_character: '' for sp_character in string.punctuation} \n",
    "    delete_dict[' '] = ' ' \n",
    "    table = str.maketrans(delete_dict)\n",
    "    text1 = str(text).translate(table)\n",
    "    #print('cleaned:'+text1)\n",
    "    textArr= str(text1).split()\n",
    "    text2 = ' '.join([w for w in textArr if ( not w.isdigit() and  ( not w.isdigit() and len(w)>3))]) \n",
    "    \n",
    "    return text2.lower()\n",
    "\n"
   ]
  },
  {
   "cell_type": "code",
   "execution_count": null,
   "id": "598701d1",
   "metadata": {
    "id": "cvROGCB6U0kd"
   },
   "outputs": [],
   "source": [
    "#Applying pre-processing functions of training and test data\n",
    "train_data['text']=train_data['text'].apply(remove_emoji)\n",
    "train_data['text']=train_data['text'].apply(remove_url)\n",
    "train_data['text']=train_data['text'].apply(clean_text)\n",
    "\n",
    "test_data['text']=test_data['text'].apply(remove_emoji)\n",
    "test_data['text']=test_data['text'].apply(remove_url)\n",
    "test_data['text']=test_data['text'].apply(clean_text)\n"
   ]
  },
  {
   "cell_type": "code",
   "execution_count": null,
   "id": "a3932b01",
   "metadata": {
    "id": "a3lHyEycVNRe"
   },
   "outputs": [],
   "source": [
    "#Splitting training data into train and validation set\n",
    "train_x,valid_x,train_y,valid_y=train_test_split(train_data['text'].tolist(),\\\n",
    "    train_data['sentiment'].tolist(),\\\n",
    "        random_state=0,test_size=0.33,\\\n",
    "        stratify=train_data['sentiment'].tolist())"
   ]
  },
  {
   "cell_type": "code",
   "execution_count": null,
   "id": "c779471d",
   "metadata": {
    "id": "nbgU5u9CWQIp"
   },
   "outputs": [],
   "source": [
    "#Converting sentiments to numerical labels and then applying categorical encoding\n",
    "le=LabelEncoder()\n",
    "train_y=le.fit_transform(train_y)\n",
    "train_y=keras.utils.to_categorical(train_y)\n",
    "train_y[:1]\n",
    "valid_y=le.transform(valid_y)\n",
    "valid_y=keras.utils.to_categorical(valid_y)\n",
    "\n",
    "test_y=le.transform(test_data['sentiment'].tolist())\n",
    "test_y=keras.utils.to_categorical(test_y)"
   ]
  },
  {
   "cell_type": "code",
   "execution_count": null,
   "id": "1f44c56c",
   "metadata": {
    "id": "7x3gxF4WXXSI"
   },
   "outputs": [],
   "source": [
    "train_x=np.array(train_x)\n",
    "valid_x=np.array(valid_x)\n",
    "test_x=np.array(test_data['text'].tolist())"
   ]
  },
  {
   "cell_type": "markdown",
   "id": "36059771",
   "metadata": {},
   "source": [
    "### Training NN with pre-trained 20 dim word embedding"
   ]
  },
  {
   "cell_type": "code",
   "execution_count": null,
   "id": "0c393cd2",
   "metadata": {
    "id": "XVVvXt4eXxH7"
   },
   "outputs": [],
   "source": [
    "#Converting x and y arrays into tensor datasets\n",
    "train_ds=tf.data.Dataset.from_tensor_slices((train_x,train_y))\n",
    "valid_ds=tf.data.Dataset.from_tensor_slices((valid_x,valid_y))\n",
    "test_ds=tf.data.Dataset.from_tensor_slices((test_x,test_y))"
   ]
  },
  {
   "cell_type": "code",
   "execution_count": null,
   "id": "b4da3eaa",
   "metadata": {
    "id": "Su5OIeUwYNqN"
   },
   "outputs": [],
   "source": [
    "#Importing pre-trained word vectors from tensorflow hub\n",
    "embedding='https://tfhub.dev/google/tf2-preview/gnews-swivel-20dim-with-oov/1'\n",
    "hub_layer=hub.KerasLayer(embedding,trainable=True,input_shape=[],dtype=tf.string)"
   ]
  },
  {
   "cell_type": "code",
   "execution_count": null,
   "id": "41f164e9",
   "metadata": {
    "colab": {
     "base_uri": "https://localhost:8080/"
    },
    "id": "RdXlRpMaaZz-",
    "outputId": "b77b5f4c-ca7d-4694-d416-706112155900"
   },
   "outputs": [
    {
     "name": "stdout",
     "output_type": "stream",
     "text": [
      "just getting additional free\n"
     ]
    }
   ],
   "source": [
    "print(train_x[0])"
   ]
  },
  {
   "cell_type": "code",
   "execution_count": null,
   "id": "f75c1cc8",
   "metadata": {
    "colab": {
     "base_uri": "https://localhost:8080/"
    },
    "id": "yYomBI4iaeW0",
    "outputId": "c8cd30b0-89a1-41f4-8dda-79b57f3bb87e"
   },
   "outputs": [
    {
     "data": {
      "text/plain": [
       "<tf.Tensor: shape=(1, 20), dtype=float32, numpy=\n",
       "array([[ 0.02252544, -1.102936  , -0.45312536,  1.1712923 , -0.9280152 ,\n",
       "        -1.6799717 , -0.03097978, -0.04522766, -0.69689393, -0.3546787 ,\n",
       "        -0.9819268 ,  1.3606595 , -0.7599448 ,  0.05979407, -0.71509284,\n",
       "         0.48663723,  1.3430784 , -1.0147772 ,  0.13958323, -0.14541228]],\n",
       "      dtype=float32)>"
      ]
     },
     "metadata": {},
     "output_type": "display_data"
    }
   ],
   "source": [
    "hub_layer(train_x[:1])"
   ]
  },
  {
   "cell_type": "code",
   "execution_count": null,
   "id": "028c4251",
   "metadata": {
    "id": "B9ppa2P3ah55"
   },
   "outputs": [],
   "source": [
    "#Create a sequential Neural Network\n",
    "model=keras.Sequential()\n",
    "model.add(hub_layer)\n",
    "model.add(keras.layers.Dense(10,activation='relu'))\n",
    "model.add(keras.layers.Dense(3,activation='sigmoid'))"
   ]
  },
  {
   "cell_type": "code",
   "execution_count": null,
   "id": "ae9ab093",
   "metadata": {
    "colab": {
     "base_uri": "https://localhost:8080/"
    },
    "id": "PBEYWjy-blv0",
    "outputId": "d2d7e421-a410-4f85-869a-fba7a4507a53"
   },
   "outputs": [
    {
     "name": "stdout",
     "output_type": "stream",
     "text": [
      "Model: \"sequential\"\n",
      "_________________________________________________________________\n",
      "Layer (type)                 Output Shape              Param #   \n",
      "=================================================================\n",
      "keras_layer (KerasLayer)     (None, 20)                389380    \n",
      "_________________________________________________________________\n",
      "dense (Dense)                (None, 10)                210       \n",
      "_________________________________________________________________\n",
      "dense_1 (Dense)              (None, 3)                 33        \n",
      "=================================================================\n",
      "Total params: 389,623\n",
      "Trainable params: 389,623\n",
      "Non-trainable params: 0\n",
      "_________________________________________________________________\n"
     ]
    }
   ],
   "source": [
    "model.summary()"
   ]
  },
  {
   "cell_type": "code",
   "execution_count": null,
   "id": "17e7162e",
   "metadata": {
    "id": "uMlPF0XYbn1q"
   },
   "outputs": [],
   "source": [
    "#Compile model-define loss function, accuracy, optimizer\n",
    "model.compile(loss=keras.losses.CategoricalCrossentropy(from_logits=True),\n",
    "              metrics=['CategoricalAccuracy'],\n",
    "              optimizer='adam')"
   ]
  },
  {
   "cell_type": "code",
   "execution_count": null,
   "id": "98ed895c",
   "metadata": {
    "colab": {
     "base_uri": "https://localhost:8080/"
    },
    "id": "8NAIW1ztcV8j",
    "outputId": "80e81fca-eb0f-4511-e70c-cbb55812ff5f"
   },
   "outputs": [
    {
     "name": "stdout",
     "output_type": "stream",
     "text": [
      "Epoch 1/20\n"
     ]
    },
    {
     "name": "stderr",
     "output_type": "stream",
     "text": [
      "c:\\Users\\AARUSH\\AppData\\Local\\Programs\\Python\\Python39\\lib\\site-packages\\tensorflow\\python\\keras\\backend.py:4869: UserWarning: \"`categorical_crossentropy` received `from_logits=True`, but the `output` argument was produced by a sigmoid or softmax activation and thus does not represent logits. Was this intended?\"\n",
      "  warnings.warn(\n"
     ]
    },
    {
     "name": "stdout",
     "output_type": "stream",
     "text": [
      "141/141 [==============================] - 2s 7ms/step - loss: 1.2528 - categorical_accuracy: 0.3327 - val_loss: 1.0911 - val_categorical_accuracy: 0.4165\n",
      "Epoch 2/20\n",
      "141/141 [==============================] - 1s 5ms/step - loss: 1.0610 - categorical_accuracy: 0.4583 - val_loss: 1.0059 - val_categorical_accuracy: 0.5112\n",
      "Epoch 3/20\n",
      "141/141 [==============================] - 1s 5ms/step - loss: 0.9763 - categorical_accuracy: 0.5380 - val_loss: 0.9384 - val_categorical_accuracy: 0.5610\n",
      "Epoch 4/20\n",
      "141/141 [==============================] - 1s 5ms/step - loss: 0.9011 - categorical_accuracy: 0.5888 - val_loss: 0.8882 - val_categorical_accuracy: 0.5902\n",
      "Epoch 5/20\n",
      "141/141 [==============================] - 1s 6ms/step - loss: 0.8390 - categorical_accuracy: 0.6261 - val_loss: 0.8540 - val_categorical_accuracy: 0.6145\n",
      "Epoch 6/20\n",
      "141/141 [==============================] - 1s 5ms/step - loss: 0.7895 - categorical_accuracy: 0.6523 - val_loss: 0.8314 - val_categorical_accuracy: 0.6244\n",
      "Epoch 7/20\n",
      "141/141 [==============================] - 1s 6ms/step - loss: 0.7494 - categorical_accuracy: 0.6769 - val_loss: 0.8169 - val_categorical_accuracy: 0.6356\n",
      "Epoch 8/20\n",
      "141/141 [==============================] - 1s 6ms/step - loss: 0.7164 - categorical_accuracy: 0.6969 - val_loss: 0.8090 - val_categorical_accuracy: 0.6448\n",
      "Epoch 9/20\n",
      "141/141 [==============================] - 1s 5ms/step - loss: 0.6890 - categorical_accuracy: 0.7128 - val_loss: 0.8059 - val_categorical_accuracy: 0.6481\n",
      "Epoch 10/20\n",
      "141/141 [==============================] - 1s 6ms/step - loss: 0.6657 - categorical_accuracy: 0.7280 - val_loss: 0.8064 - val_categorical_accuracy: 0.6492\n",
      "Epoch 11/20\n",
      "141/141 [==============================] - 1s 6ms/step - loss: 0.6456 - categorical_accuracy: 0.7362 - val_loss: 0.8096 - val_categorical_accuracy: 0.6476\n",
      "Epoch 12/20\n",
      "141/141 [==============================] - 1s 6ms/step - loss: 0.6276 - categorical_accuracy: 0.7446 - val_loss: 0.8147 - val_categorical_accuracy: 0.6507\n",
      "Epoch 13/20\n",
      "141/141 [==============================] - 1s 6ms/step - loss: 0.6113 - categorical_accuracy: 0.7552 - val_loss: 0.8213 - val_categorical_accuracy: 0.6507\n",
      "Epoch 14/20\n",
      "141/141 [==============================] - 1s 6ms/step - loss: 0.5962 - categorical_accuracy: 0.7623 - val_loss: 0.8288 - val_categorical_accuracy: 0.6497\n",
      "Epoch 15/20\n",
      "141/141 [==============================] - 1s 5ms/step - loss: 0.5821 - categorical_accuracy: 0.7715 - val_loss: 0.8375 - val_categorical_accuracy: 0.6489\n",
      "Epoch 16/20\n",
      "141/141 [==============================] - 1s 5ms/step - loss: 0.5687 - categorical_accuracy: 0.7775 - val_loss: 0.8470 - val_categorical_accuracy: 0.6468\n",
      "Epoch 17/20\n",
      "141/141 [==============================] - 1s 5ms/step - loss: 0.5561 - categorical_accuracy: 0.7806 - val_loss: 0.8572 - val_categorical_accuracy: 0.6433\n",
      "Epoch 18/20\n",
      "141/141 [==============================] - 1s 5ms/step - loss: 0.5441 - categorical_accuracy: 0.7860 - val_loss: 0.8681 - val_categorical_accuracy: 0.6420\n",
      "Epoch 19/20\n",
      "141/141 [==============================] - 1s 8ms/step - loss: 0.5326 - categorical_accuracy: 0.7908 - val_loss: 0.8801 - val_categorical_accuracy: 0.6390\n",
      "Epoch 20/20\n",
      "141/141 [==============================] - 1s 5ms/step - loss: 0.5215 - categorical_accuracy: 0.7962 - val_loss: 0.8926 - val_categorical_accuracy: 0.6376\n"
     ]
    }
   ],
   "source": [
    "#Training neural network\n",
    "history=model.fit(train_ds.batch(128),\n",
    "          epochs=20,\n",
    "          validation_data=valid_ds.batch(128))"
   ]
  },
  {
   "cell_type": "code",
   "execution_count": null,
   "id": "9b3716bd",
   "metadata": {},
   "outputs": [
    {
     "name": "stdout",
     "output_type": "stream",
     "text": [
      "Best Validation Loss: 0.8059 \n",
      "Best Validation Accuracy: 0.6507\n"
     ]
    },
    {
     "data": {
      "image/png": "[encoded data removed]",
      "text/plain": [
       "<Figure size 432x288 with 1 Axes>"
      ]
     },
     "metadata": {},
     "output_type": "display_data"
    },
    {
     "data": {
      "image/png": "[encoded data removed]",
      "text/plain": [
       "<Figure size 432x288 with 1 Axes>"
      ]
     },
     "metadata": {},
     "output_type": "display_data"
    }
   ],
   "source": [
    "#ploting training and validation loss\n",
    "history_df = pd.DataFrame(history.history)\n",
    "history_df.loc[0:, ['loss', 'val_loss']].plot()\n",
    "history_df.loc[0:, ['categorical_accuracy', 'val_categorical_accuracy']].plot()\n",
    "\n",
    "print((\"Best Validation Loss: {:0.4f} \\nBest Validation Accuracy: {:0.4f}\")\\\n",
    "      .format(history_df['val_loss'].min(), \n",
    "              history_df['val_categorical_accuracy'].max()))"
   ]
  },
  {
   "cell_type": "code",
   "execution_count": null,
   "id": "f9c711e8",
   "metadata": {},
   "outputs": [
    {
     "name": "stdout",
     "output_type": "stream",
     "text": [
      "27/27 [==============================] - 0s 2ms/step - loss: 1.4401 - categorical_accuracy: 0.6209\n"
     ]
    },
    {
     "data": {
      "text/plain": [
       "[1.440144419670105, 0.6208503246307373]"
      ]
     },
     "metadata": {},
     "output_type": "display_data"
    }
   ],
   "source": [
    "#Testing the model on test data\n",
    "model.evaluate(test_ds.batch(128))"
   ]
  },
  {
   "cell_type": "markdown",
   "id": "3b996f54",
   "metadata": {
    "id": "Z7RBc4dG-jkl"
   },
   "source": [
    "### The model is overfitting so we apply L2 regularization"
   ]
  },
  {
   "cell_type": "code",
   "execution_count": null,
   "id": "b68c33e2",
   "metadata": {
    "id": "cZsudw39daZD"
   },
   "outputs": [],
   "source": [
    "#Handling overfitting using dropout, L2 regularization\n",
    "model1=keras.Sequential()\n",
    "model1.add(hub_layer)\n",
    "model1.add(keras.layers.Dropout(0.5))\n",
    "model1.add(keras.layers.Dense(10,activation='relu',kernel_regularizer=keras.regularizers.l2(0.05)))\n",
    "model1.add(keras.layers.Dropout(0.5))\n",
    "model1.add(keras.layers.Dense(3,activation='sigmoid',kernel_regularizer=keras.regularizers.l2(0.05)))\n"
   ]
  },
  {
   "cell_type": "code",
   "execution_count": null,
   "id": "ee5d469a",
   "metadata": {
    "colab": {
     "base_uri": "https://localhost:8080/"
    },
    "id": "DZ5O7a7wgx-v",
    "outputId": "2d279f8a-7778-4ab5-9107-c2dd9d38e407"
   },
   "outputs": [
    {
     "name": "stdout",
     "output_type": "stream",
     "text": [
      "Model: \"sequential_1\"\n",
      "_________________________________________________________________\n",
      "Layer (type)                 Output Shape              Param #   \n",
      "=================================================================\n",
      "keras_layer (KerasLayer)     (None, 20)                389380    \n",
      "_________________________________________________________________\n",
      "dropout (Dropout)            (None, 20)                0         \n",
      "_________________________________________________________________\n",
      "dense_2 (Dense)              (None, 10)                210       \n",
      "_________________________________________________________________\n",
      "dropout_1 (Dropout)          (None, 10)                0         \n",
      "_________________________________________________________________\n",
      "dense_3 (Dense)              (None, 3)                 33        \n",
      "=================================================================\n",
      "Total params: 389,623\n",
      "Trainable params: 389,623\n",
      "Non-trainable params: 0\n",
      "_________________________________________________________________\n"
     ]
    }
   ],
   "source": [
    "model1.summary()"
   ]
  },
  {
   "cell_type": "code",
   "execution_count": null,
   "id": "752c30cd",
   "metadata": {
    "id": "UZ9DhvQvhjTB"
   },
   "outputs": [],
   "source": [
    "model1.compile(loss=keras.losses.CategoricalCrossentropy(from_logits=True),\n",
    "               metrics=['CategoricalAccuracy'],\n",
    "               optimizer='adam')"
   ]
  },
  {
   "cell_type": "code",
   "execution_count": null,
   "id": "25079289",
   "metadata": {
    "colab": {
     "base_uri": "https://localhost:8080/"
    },
    "id": "YxpRv_SHg2z2",
    "outputId": "6f1d156d-5814-45ec-dc65-8352f44a2bec"
   },
   "outputs": [
    {
     "name": "stdout",
     "output_type": "stream",
     "text": [
      "Epoch 1/60\n"
     ]
    },
    {
     "name": "stderr",
     "output_type": "stream",
     "text": [
      "c:\\Users\\AARUSH\\AppData\\Local\\Programs\\Python\\Python39\\lib\\site-packages\\tensorflow\\python\\keras\\backend.py:4869: UserWarning: \"`categorical_crossentropy` received `from_logits=True`, but the `output` argument was produced by a sigmoid or softmax activation and thus does not represent logits. Was this intended?\"\n",
      "  warnings.warn(\n"
     ]
    },
    {
     "name": "stdout",
     "output_type": "stream",
     "text": [
      "141/141 [==============================] - 2s 7ms/step - loss: 2.2513 - categorical_accuracy: 0.3172 - val_loss: 1.5795 - val_categorical_accuracy: 0.3735\n",
      "Epoch 2/60\n",
      "141/141 [==============================] - 1s 6ms/step - loss: 1.5512 - categorical_accuracy: 0.3641 - val_loss: 1.3269 - val_categorical_accuracy: 0.3970\n",
      "Epoch 3/60\n",
      "141/141 [==============================] - 1s 6ms/step - loss: 1.3005 - categorical_accuracy: 0.3926 - val_loss: 1.1882 - val_categorical_accuracy: 0.4024\n",
      "Epoch 4/60\n",
      "141/141 [==============================] - 1s 6ms/step - loss: 1.1735 - categorical_accuracy: 0.4285 - val_loss: 1.1048 - val_categorical_accuracy: 0.4647\n",
      "Epoch 5/60\n",
      "141/141 [==============================] - 1s 6ms/step - loss: 1.1047 - categorical_accuracy: 0.4778 - val_loss: 1.0594 - val_categorical_accuracy: 0.5344\n",
      "Epoch 6/60\n",
      "141/141 [==============================] - 1s 6ms/step - loss: 1.0683 - categorical_accuracy: 0.5078 - val_loss: 1.0312 - val_categorical_accuracy: 0.5691\n",
      "Epoch 7/60\n",
      "141/141 [==============================] - 1s 6ms/step - loss: 1.0345 - categorical_accuracy: 0.5495 - val_loss: 1.0077 - val_categorical_accuracy: 0.5994\n",
      "Epoch 8/60\n",
      "141/141 [==============================] - 1s 6ms/step - loss: 1.0234 - categorical_accuracy: 0.5365 - val_loss: 0.9959 - val_categorical_accuracy: 0.6045\n",
      "Epoch 9/60\n",
      "141/141 [==============================] - 1s 6ms/step - loss: 1.0092 - categorical_accuracy: 0.5535 - val_loss: 0.9796 - val_categorical_accuracy: 0.6186\n",
      "Epoch 10/60\n",
      "141/141 [==============================] - 1s 6ms/step - loss: 0.9899 - categorical_accuracy: 0.5642 - val_loss: 0.9689 - val_categorical_accuracy: 0.6236\n",
      "Epoch 11/60\n",
      "141/141 [==============================] - 1s 6ms/step - loss: 0.9832 - categorical_accuracy: 0.5763 - val_loss: 0.9625 - val_categorical_accuracy: 0.6225\n",
      "Epoch 12/60\n",
      "141/141 [==============================] - 1s 6ms/step - loss: 0.9763 - categorical_accuracy: 0.5792 - val_loss: 0.9547 - val_categorical_accuracy: 0.6321\n",
      "Epoch 13/60\n",
      "141/141 [==============================] - 1s 6ms/step - loss: 0.9713 - categorical_accuracy: 0.5796 - val_loss: 0.9486 - val_categorical_accuracy: 0.6381\n",
      "Epoch 14/60\n",
      "141/141 [==============================] - 1s 6ms/step - loss: 0.9629 - categorical_accuracy: 0.5930 - val_loss: 0.9426 - val_categorical_accuracy: 0.6360\n",
      "Epoch 15/60\n",
      "141/141 [==============================] - 1s 6ms/step - loss: 0.9550 - categorical_accuracy: 0.5969 - val_loss: 0.9376 - val_categorical_accuracy: 0.6396\n",
      "Epoch 16/60\n",
      "141/141 [==============================] - 1s 6ms/step - loss: 0.9451 - categorical_accuracy: 0.6057 - val_loss: 0.9331 - val_categorical_accuracy: 0.6438\n",
      "Epoch 17/60\n",
      "141/141 [==============================] - 1s 6ms/step - loss: 0.9427 - categorical_accuracy: 0.6026 - val_loss: 0.9306 - val_categorical_accuracy: 0.6427\n",
      "Epoch 18/60\n",
      "141/141 [==============================] - 1s 6ms/step - loss: 0.9328 - categorical_accuracy: 0.6137 - val_loss: 0.9275 - val_categorical_accuracy: 0.6414\n",
      "Epoch 19/60\n",
      "141/141 [==============================] - 1s 6ms/step - loss: 0.9361 - categorical_accuracy: 0.6062 - val_loss: 0.9237 - val_categorical_accuracy: 0.6451\n",
      "Epoch 20/60\n",
      "141/141 [==============================] - 1s 5ms/step - loss: 0.9308 - categorical_accuracy: 0.6114 - val_loss: 0.9212 - val_categorical_accuracy: 0.6463\n",
      "Epoch 21/60\n",
      "141/141 [==============================] - 1s 6ms/step - loss: 0.9249 - categorical_accuracy: 0.6143 - val_loss: 0.9184 - val_categorical_accuracy: 0.6470\n",
      "Epoch 22/60\n",
      "141/141 [==============================] - 1s 6ms/step - loss: 0.9197 - categorical_accuracy: 0.6166 - val_loss: 0.9144 - val_categorical_accuracy: 0.6499\n",
      "Epoch 23/60\n",
      "141/141 [==============================] - 1s 6ms/step - loss: 0.9143 - categorical_accuracy: 0.6232 - val_loss: 0.9132 - val_categorical_accuracy: 0.6473\n",
      "Epoch 24/60\n",
      "141/141 [==============================] - 1s 10ms/step - loss: 0.9217 - categorical_accuracy: 0.6199 - val_loss: 0.9086 - val_categorical_accuracy: 0.6557\n",
      "Epoch 25/60\n",
      "141/141 [==============================] - 1s 6ms/step - loss: 0.9103 - categorical_accuracy: 0.6255 - val_loss: 0.9072 - val_categorical_accuracy: 0.6531\n",
      "Epoch 26/60\n",
      "141/141 [==============================] - 1s 6ms/step - loss: 0.9084 - categorical_accuracy: 0.6230 - val_loss: 0.9058 - val_categorical_accuracy: 0.6531\n",
      "Epoch 27/60\n",
      "141/141 [==============================] - 1s 6ms/step - loss: 0.9039 - categorical_accuracy: 0.6290 - val_loss: 0.9034 - val_categorical_accuracy: 0.6536\n",
      "Epoch 28/60\n",
      "141/141 [==============================] - 1s 6ms/step - loss: 0.9002 - categorical_accuracy: 0.6338 - val_loss: 0.9021 - val_categorical_accuracy: 0.6550\n",
      "Epoch 29/60\n",
      "141/141 [==============================] - ETA: 0s - loss: 0.8982 - categorical_accuracy: 0.63 - 1s 6ms/step - loss: 0.8982 - categorical_accuracy: 0.6328 - val_loss: 0.9003 - val_categorical_accuracy: 0.6548\n",
      "Epoch 30/60\n",
      "141/141 [==============================] - ETA: 0s - loss: 0.9021 - categorical_accuracy: 0.63 - 1s 6ms/step - loss: 0.9020 - categorical_accuracy: 0.6351 - val_loss: 0.8985 - val_categorical_accuracy: 0.6549\n",
      "Epoch 31/60\n",
      "141/141 [==============================] - 1s 6ms/step - loss: 0.8952 - categorical_accuracy: 0.6409 - val_loss: 0.8989 - val_categorical_accuracy: 0.6522\n",
      "Epoch 32/60\n",
      "141/141 [==============================] - 1s 6ms/step - loss: 0.8891 - categorical_accuracy: 0.6396 - val_loss: 0.8962 - val_categorical_accuracy: 0.6549\n",
      "Epoch 33/60\n",
      "141/141 [==============================] - 1s 7ms/step - loss: 0.8885 - categorical_accuracy: 0.6358 - val_loss: 0.8955 - val_categorical_accuracy: 0.6523\n",
      "Epoch 34/60\n",
      "141/141 [==============================] - 1s 6ms/step - loss: 0.8866 - categorical_accuracy: 0.6422 - val_loss: 0.8946 - val_categorical_accuracy: 0.6525\n",
      "Epoch 35/60\n",
      "141/141 [==============================] - 1s 6ms/step - loss: 0.8755 - categorical_accuracy: 0.6493 - val_loss: 0.8921 - val_categorical_accuracy: 0.6543\n",
      "Epoch 36/60\n",
      "141/141 [==============================] - 1s 6ms/step - loss: 0.8829 - categorical_accuracy: 0.6469 - val_loss: 0.8900 - val_categorical_accuracy: 0.6566\n",
      "Epoch 37/60\n",
      "141/141 [==============================] - 1s 6ms/step - loss: 0.8841 - categorical_accuracy: 0.6524 - val_loss: 0.8892 - val_categorical_accuracy: 0.6568\n",
      "Epoch 38/60\n",
      "141/141 [==============================] - 1s 6ms/step - loss: 0.8790 - categorical_accuracy: 0.6499 - val_loss: 0.8878 - val_categorical_accuracy: 0.6572\n",
      "Epoch 39/60\n",
      "141/141 [==============================] - 1s 6ms/step - loss: 0.8749 - categorical_accuracy: 0.6536 - val_loss: 0.8873 - val_categorical_accuracy: 0.6558\n",
      "Epoch 40/60\n",
      "141/141 [==============================] - 1s 6ms/step - loss: 0.8721 - categorical_accuracy: 0.6525 - val_loss: 0.8864 - val_categorical_accuracy: 0.6575\n",
      "Epoch 41/60\n",
      "141/141 [==============================] - 1s 6ms/step - loss: 0.8752 - categorical_accuracy: 0.6545 - val_loss: 0.8857 - val_categorical_accuracy: 0.6582\n",
      "Epoch 42/60\n",
      "141/141 [==============================] - 1s 6ms/step - loss: 0.8671 - categorical_accuracy: 0.6550 - val_loss: 0.8846 - val_categorical_accuracy: 0.6591\n",
      "Epoch 43/60\n",
      "141/141 [==============================] - 1s 6ms/step - loss: 0.8664 - categorical_accuracy: 0.6595 - val_loss: 0.8849 - val_categorical_accuracy: 0.6570\n",
      "Epoch 44/60\n",
      "141/141 [==============================] - 1s 6ms/step - loss: 0.8694 - categorical_accuracy: 0.6554 - val_loss: 0.8826 - val_categorical_accuracy: 0.6564\n",
      "Epoch 45/60\n",
      "141/141 [==============================] - 1s 6ms/step - loss: 0.8580 - categorical_accuracy: 0.6623 - val_loss: 0.8826 - val_categorical_accuracy: 0.6564\n",
      "Epoch 46/60\n",
      "141/141 [==============================] - 1s 6ms/step - loss: 0.8617 - categorical_accuracy: 0.6600 - val_loss: 0.8826 - val_categorical_accuracy: 0.6538\n",
      "Epoch 47/60\n",
      "141/141 [==============================] - 1s 7ms/step - loss: 0.8570 - categorical_accuracy: 0.6667 - val_loss: 0.8812 - val_categorical_accuracy: 0.6575\n",
      "Epoch 48/60\n",
      "141/141 [==============================] - 1s 6ms/step - loss: 0.8660 - categorical_accuracy: 0.6616 - val_loss: 0.8800 - val_categorical_accuracy: 0.6593\n",
      "Epoch 49/60\n",
      "141/141 [==============================] - 1s 6ms/step - loss: 0.8529 - categorical_accuracy: 0.6699 - val_loss: 0.8806 - val_categorical_accuracy: 0.6585\n",
      "Epoch 50/60\n",
      "141/141 [==============================] - 1s 6ms/step - loss: 0.8570 - categorical_accuracy: 0.6670 - val_loss: 0.8787 - val_categorical_accuracy: 0.6620\n",
      "Epoch 51/60\n",
      "141/141 [==============================] - 1s 6ms/step - loss: 0.8509 - categorical_accuracy: 0.6746 - val_loss: 0.8779 - val_categorical_accuracy: 0.6593\n",
      "Epoch 52/60\n",
      "141/141 [==============================] - 1s 6ms/step - loss: 0.8511 - categorical_accuracy: 0.6665 - val_loss: 0.8786 - val_categorical_accuracy: 0.6578\n",
      "Epoch 53/60\n",
      "141/141 [==============================] - 1s 6ms/step - loss: 0.8523 - categorical_accuracy: 0.6659 - val_loss: 0.8772 - val_categorical_accuracy: 0.6574\n",
      "Epoch 54/60\n",
      "141/141 [==============================] - 1s 6ms/step - loss: 0.8527 - categorical_accuracy: 0.6642 - val_loss: 0.8762 - val_categorical_accuracy: 0.6625\n",
      "Epoch 55/60\n",
      "141/141 [==============================] - 1s 6ms/step - loss: 0.8479 - categorical_accuracy: 0.6701 - val_loss: 0.8758 - val_categorical_accuracy: 0.6615\n",
      "Epoch 56/60\n",
      "141/141 [==============================] - 1s 6ms/step - loss: 0.8391 - categorical_accuracy: 0.6720 - val_loss: 0.8753 - val_categorical_accuracy: 0.6634\n",
      "Epoch 57/60\n",
      "141/141 [==============================] - 1s 7ms/step - loss: 0.8509 - categorical_accuracy: 0.6735 - val_loss: 0.8742 - val_categorical_accuracy: 0.6626\n",
      "Epoch 58/60\n",
      "141/141 [==============================] - 1s 6ms/step - loss: 0.8409 - categorical_accuracy: 0.6745 - val_loss: 0.8746 - val_categorical_accuracy: 0.6610\n",
      "Epoch 59/60\n",
      "141/141 [==============================] - 1s 6ms/step - loss: 0.8375 - categorical_accuracy: 0.6781 - val_loss: 0.8736 - val_categorical_accuracy: 0.6628\n",
      "Epoch 60/60\n",
      "141/141 [==============================] - 1s 6ms/step - loss: 0.8427 - categorical_accuracy: 0.6737 - val_loss: 0.8736 - val_categorical_accuracy: 0.6616\n"
     ]
    }
   ],
   "source": [
    "history1=model1.fit(train_ds.shuffle(1000).batch(128),\n",
    "          epochs=60,\n",
    "          validation_data=valid_ds.batch(128))"
   ]
  },
  {
   "cell_type": "code",
   "execution_count": null,
   "id": "5ba8c289",
   "metadata": {
    "colab": {
     "base_uri": "https://localhost:8080/",
     "height": 279
    },
    "id": "liqFAjRLhvDn",
    "outputId": "41abea96-eefa-41e6-b59b-9110e8394cb2"
   },
   "outputs": [
    {
     "name": "stdout",
     "output_type": "stream",
     "text": [
      "Best Validation Loss: 0.8736 \n",
      "Best Validation Accuracy: 0.6634\n"
     ]
    },
    {
     "data": {
      "image/png": "[encoded data removed]",
      "text/plain": [
       "<Figure size 432x288 with 1 Axes>"
      ]
     },
     "metadata": {},
     "output_type": "display_data"
    },
    {
     "data": {
      "image/png": "[encoded data removed]",
      "text/plain": [
       "<Figure size 432x288 with 1 Axes>"
      ]
     },
     "metadata": {},
     "output_type": "display_data"
    }
   ],
   "source": [
    "#ploting training and validation loss\n",
    "history_df = pd.DataFrame(history1.history)\n",
    "history_df.loc[0:, ['loss', 'val_loss']].plot()\n",
    "history_df.loc[0:, ['categorical_accuracy', 'val_categorical_accuracy']].plot()\n",
    "\n",
    "print((\"Best Validation Loss: {:0.4f} \\nBest Validation Accuracy: {:0.4f}\")\\\n",
    "      .format(history_df['val_loss'].min(), \n",
    "              history_df['val_categorical_accuracy'].max()))"
   ]
  },
  {
   "cell_type": "code",
   "execution_count": null,
   "id": "9f6e6d3c",
   "metadata": {
    "colab": {
     "base_uri": "https://localhost:8080/"
    },
    "id": "QX5ajGXviHD0",
    "outputId": "f7102a66-958e-4ea6-ddcc-a8f7a9db86ba"
   },
   "outputs": [
    {
     "name": "stdout",
     "output_type": "stream",
     "text": [
      "27/27 [==============================] - 0s 2ms/step - loss: 0.8601 - categorical_accuracy: 0.6715\n"
     ]
    },
    {
     "data": {
      "text/plain": [
       "[0.8601452708244324, 0.6715201139450073]"
      ]
     },
     "metadata": {},
     "output_type": "display_data"
    }
   ],
   "source": [
    "#Testing the model on test data\n",
    "model1.evaluate(test_ds.batch(128))"
   ]
  },
  {
   "cell_type": "code",
   "execution_count": null,
   "id": "f02a39f6",
   "metadata": {},
   "outputs": [],
   "source": []
  },
  {
   "cell_type": "markdown",
   "id": "36f8faf0",
   "metadata": {},
   "source": [
    "### Using 128 dim word embedding\n",
    "this file was ran on Kaggle"
   ]
  },
  {
   "cell_type": "code",
   "execution_count": 10,
   "id": "dd852de7",
   "metadata": {
    "execution": {
     "iopub.execute_input": "2022-04-30T20:24:11.513927Z",
     "iopub.status.busy": "2022-04-30T20:24:11.513674Z",
     "iopub.status.idle": "2022-04-30T20:24:18.008562Z",
     "shell.execute_reply": "2022-04-30T20:24:18.007781Z"
    },
    "papermill": {
     "duration": 6.514891,
     "end_time": "2022-04-30T20:24:18.010818",
     "exception": false,
     "start_time": "2022-04-30T20:24:11.495927",
     "status": "completed"
    },
    "tags": []
   },
   "outputs": [
    {
     "name": "stderr",
     "output_type": "stream",
     "text": [
      "2022-04-30 20:24:17.082850: I tensorflow/compiler/mlir/mlir_graph_optimization_pass.cc:185] None of the MLIR Optimization Passes are enabled (registered 2)\n"
     ]
    }
   ],
   "source": [
    "embedding='https://tfhub.dev/google/nnlm-en-dim128/2'\n",
    "hub_layer=hub.KerasLayer(embedding,input_shape=[],dtype=tf.string)"
   ]
  },
  {
   "cell_type": "code",
   "execution_count": 11,
   "id": "cf725aba",
   "metadata": {
    "execution": {
     "iopub.execute_input": "2022-04-30T20:24:18.048207Z",
     "iopub.status.busy": "2022-04-30T20:24:18.047984Z",
     "iopub.status.idle": "2022-04-30T20:24:18.121449Z",
     "shell.execute_reply": "2022-04-30T20:24:18.120384Z"
    },
    "papermill": {
     "duration": 0.095739,
     "end_time": "2022-04-30T20:24:18.124739",
     "exception": false,
     "start_time": "2022-04-30T20:24:18.029000",
     "status": "completed"
    },
    "scrolled": true,
    "tags": []
   },
   "outputs": [
    {
     "data": {
      "text/plain": [
       "<tf.Tensor: shape=(1, 128), dtype=float32, numpy=\n",
       "array([[ 0.30171746,  0.11441445,  0.04430154,  0.15805684,  0.00932129,\n",
       "        -0.01273593, -0.03146448, -0.09147067,  0.01436323,  0.10752429,\n",
       "        -0.15413314, -0.03710237, -0.1014939 , -0.03022293, -0.0669625 ,\n",
       "        -0.10535901, -0.02786255, -0.09795634, -0.24064359,  0.10665305,\n",
       "         0.2232809 , -0.08729829, -0.04989024,  0.03768301, -0.11618403,\n",
       "        -0.05657186,  0.2260302 ,  0.0128693 , -0.11821792, -0.02930259,\n",
       "         0.04772896,  0.02752521, -0.01438598,  0.20336376,  0.1006204 ,\n",
       "         0.03451556, -0.07738236,  0.01930993,  0.09256567,  0.07220806,\n",
       "         0.00258796, -0.09761407,  0.11032079,  0.01587577, -0.09081273,\n",
       "         0.1393445 , -0.00683034,  0.03532982,  0.02565479, -0.16792788,\n",
       "        -0.02380151, -0.00501589,  0.08929241, -0.05368774, -0.02739222,\n",
       "         0.0621828 , -0.16751455, -0.09210834,  0.10788223, -0.11234299,\n",
       "         0.07741679,  0.1305575 ,  0.02184896, -0.13060962, -0.12497135,\n",
       "         0.2106667 , -0.04012315, -0.21220906, -0.03161962, -0.00176831,\n",
       "         0.02228876, -0.10589691,  0.03713695,  0.02778899,  0.02680157,\n",
       "         0.05754266,  0.00101661, -0.05755574,  0.04604059,  0.01190707,\n",
       "        -0.10691637, -0.0259836 ,  0.16453415, -0.04245387,  0.10137353,\n",
       "         0.03676121, -0.16561563,  0.02014007,  0.18514422,  0.22103414,\n",
       "        -0.09357657,  0.12393475, -0.01697915, -0.09687051,  0.0705004 ,\n",
       "        -0.00523031, -0.15574923, -0.17660287, -0.02390215,  0.21761091,\n",
       "         0.16321346, -0.04869259, -0.01064082,  0.10471086, -0.09042422,\n",
       "         0.09945627, -0.05696343, -0.03326744,  0.04759286, -0.12161434,\n",
       "        -0.09956755,  0.08509587, -0.03967698,  0.05383647, -0.10707224,\n",
       "        -0.14258137,  0.03960731,  0.08946648,  0.00289472,  0.02507907,\n",
       "         0.13890553, -0.13822156,  0.06098518,  0.12561604,  0.04538617,\n",
       "         0.0279166 ,  0.04581025, -0.08903563]], dtype=float32)>"
      ]
     },
     "execution_count": 11,
     "metadata": {},
     "output_type": "execute_result"
    }
   ],
   "source": [
    "hub_layer(train_x[:1])"
   ]
  },
  {
   "cell_type": "code",
   "execution_count": 12,
   "id": "d106ca40",
   "metadata": {
    "execution": {
     "iopub.execute_input": "2022-04-30T20:24:18.164260Z",
     "iopub.status.busy": "2022-04-30T20:24:18.164019Z",
     "iopub.status.idle": "2022-04-30T20:24:18.637907Z",
     "shell.execute_reply": "2022-04-30T20:24:18.637050Z"
    },
    "papermill": {
     "duration": 0.495439,
     "end_time": "2022-04-30T20:24:18.640239",
     "exception": false,
     "start_time": "2022-04-30T20:24:18.144800",
     "status": "completed"
    },
    "tags": []
   },
   "outputs": [],
   "source": [
    "model=keras.Sequential()\n",
    "model.add(hub_layer)\n",
    "# model.add(keras.layers.Dropout(0.3))\n",
    "model.add(keras.layers.Dense(64,activation='relu'))\n",
    "model.add(keras.layers.Dense(3,activation='sigmoid'))"
   ]
  },
  {
   "cell_type": "code",
   "execution_count": 13,
   "id": "28fa4adc",
   "metadata": {
    "execution": {
     "iopub.execute_input": "2022-04-30T20:24:18.677340Z",
     "iopub.status.busy": "2022-04-30T20:24:18.676729Z",
     "iopub.status.idle": "2022-04-30T20:24:18.684065Z",
     "shell.execute_reply": "2022-04-30T20:24:18.682661Z"
    },
    "papermill": {
     "duration": 0.028444,
     "end_time": "2022-04-30T20:24:18.686424",
     "exception": false,
     "start_time": "2022-04-30T20:24:18.657980",
     "status": "completed"
    },
    "tags": []
   },
   "outputs": [
    {
     "name": "stdout",
     "output_type": "stream",
     "text": [
      "Model: \"sequential\"\n",
      "_________________________________________________________________\n",
      "Layer (type)                 Output Shape              Param #   \n",
      "=================================================================\n",
      "keras_layer (KerasLayer)     (None, 128)               124642688 \n",
      "_________________________________________________________________\n",
      "dense (Dense)                (None, 64)                8256      \n",
      "_________________________________________________________________\n",
      "dense_1 (Dense)              (None, 3)                 195       \n",
      "=================================================================\n",
      "Total params: 124,651,139\n",
      "Trainable params: 8,451\n",
      "Non-trainable params: 124,642,688\n",
      "_________________________________________________________________\n"
     ]
    }
   ],
   "source": [
    "model.summary()"
   ]
  },
  {
   "cell_type": "code",
   "execution_count": 14,
   "id": "d9190395",
   "metadata": {
    "execution": {
     "iopub.execute_input": "2022-04-30T20:24:18.725310Z",
     "iopub.status.busy": "2022-04-30T20:24:18.725007Z",
     "iopub.status.idle": "2022-04-30T20:24:18.737129Z",
     "shell.execute_reply": "2022-04-30T20:24:18.736430Z"
    },
    "papermill": {
     "duration": 0.033125,
     "end_time": "2022-04-30T20:24:18.738994",
     "exception": false,
     "start_time": "2022-04-30T20:24:18.705869",
     "status": "completed"
    },
    "tags": []
   },
   "outputs": [],
   "source": [
    "model.compile(loss=keras.losses.CategoricalCrossentropy(from_logits=True),\n",
    "              metrics=['CategoricalAccuracy'],\n",
    "              optimizer='adam')"
   ]
  },
  {
   "cell_type": "code",
   "execution_count": 15,
   "id": "015fdcaa",
   "metadata": {
    "execution": {
     "iopub.execute_input": "2022-04-30T20:24:18.777169Z",
     "iopub.status.busy": "2022-04-30T20:24:18.776619Z",
     "iopub.status.idle": "2022-04-30T20:24:36.976627Z",
     "shell.execute_reply": "2022-04-30T20:24:36.975792Z"
    },
    "papermill": {
     "duration": 18.221219,
     "end_time": "2022-04-30T20:24:36.978419",
     "exception": false,
     "start_time": "2022-04-30T20:24:18.757200",
     "status": "completed"
    },
    "scrolled": true,
    "tags": []
   },
   "outputs": [
    {
     "name": "stdout",
     "output_type": "stream",
     "text": [
      "Epoch 1/60\n"
     ]
    },
    {
     "name": "stderr",
     "output_type": "stream",
     "text": [
      "/opt/conda/lib/python3.7/site-packages/keras/backend.py:4847: UserWarning: \"`categorical_crossentropy` received `from_logits=True`, but the `output` argument was produced by a sigmoid or softmax activation and thus does not represent logits. Was this intended?\"\n",
      "  '\"`categorical_crossentropy` received `from_logits=True`, but '\n"
     ]
    },
    {
     "name": "stdout",
     "output_type": "stream",
     "text": [
      "36/36 [==============================] - 2s 10ms/step - loss: 1.0473 - categorical_accuracy: 0.4785 - val_loss: 0.9868 - val_categorical_accuracy: 0.5711\n",
      "Epoch 2/60\n",
      "36/36 [==============================] - 0s 6ms/step - loss: 0.9479 - categorical_accuracy: 0.5863 - val_loss: 0.9058 - val_categorical_accuracy: 0.6003\n",
      "Epoch 3/60\n",
      "36/36 [==============================] - 0s 6ms/step - loss: 0.8881 - categorical_accuracy: 0.6039 - val_loss: 0.8659 - val_categorical_accuracy: 0.6173\n",
      "Epoch 4/60\n",
      "36/36 [==============================] - 0s 6ms/step - loss: 0.8610 - categorical_accuracy: 0.6193 - val_loss: 0.8508 - val_categorical_accuracy: 0.6214\n",
      "Epoch 5/60\n",
      "36/36 [==============================] - 0s 6ms/step - loss: 0.8458 - categorical_accuracy: 0.6265 - val_loss: 0.8383 - val_categorical_accuracy: 0.6288\n",
      "Epoch 6/60\n",
      "36/36 [==============================] - 0s 6ms/step - loss: 0.8364 - categorical_accuracy: 0.6308 - val_loss: 0.8314 - val_categorical_accuracy: 0.6323\n",
      "Epoch 7/60\n",
      "36/36 [==============================] - 0s 6ms/step - loss: 0.8302 - categorical_accuracy: 0.6335 - val_loss: 0.8268 - val_categorical_accuracy: 0.6394\n",
      "Epoch 8/60\n",
      "36/36 [==============================] - 0s 6ms/step - loss: 0.8256 - categorical_accuracy: 0.6357 - val_loss: 0.8243 - val_categorical_accuracy: 0.6389\n",
      "Epoch 9/60\n",
      "36/36 [==============================] - 0s 6ms/step - loss: 0.8234 - categorical_accuracy: 0.6370 - val_loss: 0.8211 - val_categorical_accuracy: 0.6395\n",
      "Epoch 10/60\n",
      "36/36 [==============================] - 0s 6ms/step - loss: 0.8199 - categorical_accuracy: 0.6392 - val_loss: 0.8185 - val_categorical_accuracy: 0.6403\n",
      "Epoch 11/60\n",
      "36/36 [==============================] - 0s 6ms/step - loss: 0.8170 - categorical_accuracy: 0.6410 - val_loss: 0.8183 - val_categorical_accuracy: 0.6419\n",
      "Epoch 12/60\n",
      "36/36 [==============================] - 0s 6ms/step - loss: 0.8156 - categorical_accuracy: 0.6446 - val_loss: 0.8154 - val_categorical_accuracy: 0.6433\n",
      "Epoch 13/60\n",
      "36/36 [==============================] - 0s 6ms/step - loss: 0.8132 - categorical_accuracy: 0.6419 - val_loss: 0.8139 - val_categorical_accuracy: 0.6417\n",
      "Epoch 14/60\n",
      "36/36 [==============================] - 0s 6ms/step - loss: 0.8103 - categorical_accuracy: 0.6429 - val_loss: 0.8129 - val_categorical_accuracy: 0.6458\n",
      "Epoch 15/60\n",
      "36/36 [==============================] - 0s 6ms/step - loss: 0.8081 - categorical_accuracy: 0.6470 - val_loss: 0.8119 - val_categorical_accuracy: 0.6414\n",
      "Epoch 16/60\n",
      "36/36 [==============================] - 0s 6ms/step - loss: 0.8078 - categorical_accuracy: 0.6463 - val_loss: 0.8108 - val_categorical_accuracy: 0.6451\n",
      "Epoch 17/60\n",
      "36/36 [==============================] - 0s 6ms/step - loss: 0.8086 - categorical_accuracy: 0.6433 - val_loss: 0.8111 - val_categorical_accuracy: 0.6439\n",
      "Epoch 18/60\n",
      "36/36 [==============================] - 0s 6ms/step - loss: 0.8085 - categorical_accuracy: 0.6427 - val_loss: 0.8085 - val_categorical_accuracy: 0.6420\n",
      "Epoch 19/60\n",
      "36/36 [==============================] - 0s 6ms/step - loss: 0.8042 - categorical_accuracy: 0.6485 - val_loss: 0.8067 - val_categorical_accuracy: 0.6425\n",
      "Epoch 20/60\n",
      "36/36 [==============================] - 1s 15ms/step - loss: 0.8013 - categorical_accuracy: 0.6500 - val_loss: 0.8067 - val_categorical_accuracy: 0.6442\n",
      "Epoch 21/60\n",
      "36/36 [==============================] - 0s 10ms/step - loss: 0.8009 - categorical_accuracy: 0.6500 - val_loss: 0.8060 - val_categorical_accuracy: 0.6423\n",
      "Epoch 22/60\n",
      "36/36 [==============================] - 0s 9ms/step - loss: 0.7988 - categorical_accuracy: 0.6498 - val_loss: 0.8045 - val_categorical_accuracy: 0.6448\n",
      "Epoch 23/60\n",
      "36/36 [==============================] - 0s 6ms/step - loss: 0.8006 - categorical_accuracy: 0.6474 - val_loss: 0.8043 - val_categorical_accuracy: 0.6476\n",
      "Epoch 24/60\n",
      "36/36 [==============================] - 0s 6ms/step - loss: 0.7962 - categorical_accuracy: 0.6550 - val_loss: 0.8058 - val_categorical_accuracy: 0.6476\n",
      "Epoch 25/60\n",
      "36/36 [==============================] - 0s 6ms/step - loss: 0.7994 - categorical_accuracy: 0.6507 - val_loss: 0.8020 - val_categorical_accuracy: 0.6463\n",
      "Epoch 26/60\n",
      "36/36 [==============================] - 0s 6ms/step - loss: 0.7942 - categorical_accuracy: 0.6551 - val_loss: 0.8002 - val_categorical_accuracy: 0.6478\n",
      "Epoch 27/60\n",
      "36/36 [==============================] - 0s 6ms/step - loss: 0.7937 - categorical_accuracy: 0.6540 - val_loss: 0.8007 - val_categorical_accuracy: 0.6472\n",
      "Epoch 28/60\n",
      "36/36 [==============================] - 0s 6ms/step - loss: 0.7910 - categorical_accuracy: 0.6562 - val_loss: 0.7991 - val_categorical_accuracy: 0.6505\n",
      "Epoch 29/60\n",
      "36/36 [==============================] - 0s 6ms/step - loss: 0.7898 - categorical_accuracy: 0.6576 - val_loss: 0.7984 - val_categorical_accuracy: 0.6484\n",
      "Epoch 30/60\n",
      "36/36 [==============================] - 0s 6ms/step - loss: 0.7899 - categorical_accuracy: 0.6574 - val_loss: 0.7982 - val_categorical_accuracy: 0.6492\n",
      "Epoch 31/60\n",
      "36/36 [==============================] - 0s 6ms/step - loss: 0.7877 - categorical_accuracy: 0.6569 - val_loss: 0.7979 - val_categorical_accuracy: 0.6532\n",
      "Epoch 32/60\n",
      "36/36 [==============================] - 0s 6ms/step - loss: 0.7872 - categorical_accuracy: 0.6586 - val_loss: 0.7986 - val_categorical_accuracy: 0.6516\n",
      "Epoch 33/60\n",
      "36/36 [==============================] - 0s 6ms/step - loss: 0.7885 - categorical_accuracy: 0.6555 - val_loss: 0.7973 - val_categorical_accuracy: 0.6511\n",
      "Epoch 34/60\n",
      "36/36 [==============================] - 0s 6ms/step - loss: 0.7859 - categorical_accuracy: 0.6583 - val_loss: 0.7986 - val_categorical_accuracy: 0.6526\n",
      "Epoch 35/60\n",
      "36/36 [==============================] - 0s 6ms/step - loss: 0.7845 - categorical_accuracy: 0.6600 - val_loss: 0.7982 - val_categorical_accuracy: 0.6508\n",
      "Epoch 36/60\n",
      "36/36 [==============================] - 0s 6ms/step - loss: 0.7854 - categorical_accuracy: 0.6580 - val_loss: 0.7984 - val_categorical_accuracy: 0.6514\n",
      "Epoch 37/60\n",
      "36/36 [==============================] - 0s 6ms/step - loss: 0.7817 - categorical_accuracy: 0.6594 - val_loss: 0.7965 - val_categorical_accuracy: 0.6518\n",
      "Epoch 38/60\n",
      "36/36 [==============================] - 0s 6ms/step - loss: 0.7808 - categorical_accuracy: 0.6609 - val_loss: 0.7984 - val_categorical_accuracy: 0.6495\n",
      "Epoch 39/60\n",
      "36/36 [==============================] - 0s 7ms/step - loss: 0.7847 - categorical_accuracy: 0.6595 - val_loss: 0.7973 - val_categorical_accuracy: 0.6467\n",
      "Epoch 40/60\n",
      "36/36 [==============================] - 0s 6ms/step - loss: 0.7802 - categorical_accuracy: 0.6600 - val_loss: 0.7960 - val_categorical_accuracy: 0.6485\n",
      "Epoch 41/60\n",
      "36/36 [==============================] - 0s 6ms/step - loss: 0.7790 - categorical_accuracy: 0.6629 - val_loss: 0.7963 - val_categorical_accuracy: 0.6507\n",
      "Epoch 42/60\n",
      "36/36 [==============================] - 0s 6ms/step - loss: 0.7783 - categorical_accuracy: 0.6632 - val_loss: 0.7966 - val_categorical_accuracy: 0.6508\n",
      "Epoch 43/60\n",
      "36/36 [==============================] - 0s 6ms/step - loss: 0.7786 - categorical_accuracy: 0.6621 - val_loss: 0.7965 - val_categorical_accuracy: 0.6516\n",
      "Epoch 44/60\n",
      "36/36 [==============================] - 0s 6ms/step - loss: 0.7779 - categorical_accuracy: 0.6629 - val_loss: 0.7954 - val_categorical_accuracy: 0.6522\n",
      "Epoch 45/60\n",
      "36/36 [==============================] - 0s 6ms/step - loss: 0.7758 - categorical_accuracy: 0.6647 - val_loss: 0.7943 - val_categorical_accuracy: 0.6513\n",
      "Epoch 46/60\n",
      "36/36 [==============================] - 0s 6ms/step - loss: 0.7754 - categorical_accuracy: 0.6653 - val_loss: 0.7954 - val_categorical_accuracy: 0.6507\n",
      "Epoch 47/60\n",
      "36/36 [==============================] - 0s 6ms/step - loss: 0.7734 - categorical_accuracy: 0.6655 - val_loss: 0.7935 - val_categorical_accuracy: 0.6509\n",
      "Epoch 48/60\n",
      "36/36 [==============================] - 0s 6ms/step - loss: 0.7733 - categorical_accuracy: 0.6651 - val_loss: 0.7945 - val_categorical_accuracy: 0.6500\n",
      "Epoch 49/60\n",
      "36/36 [==============================] - 0s 6ms/step - loss: 0.7738 - categorical_accuracy: 0.6632 - val_loss: 0.7927 - val_categorical_accuracy: 0.6534\n",
      "Epoch 50/60\n",
      "36/36 [==============================] - 0s 6ms/step - loss: 0.7712 - categorical_accuracy: 0.6665 - val_loss: 0.7932 - val_categorical_accuracy: 0.6528\n",
      "Epoch 51/60\n",
      "36/36 [==============================] - 0s 6ms/step - loss: 0.7707 - categorical_accuracy: 0.6666 - val_loss: 0.7928 - val_categorical_accuracy: 0.6518\n",
      "Epoch 52/60\n",
      "36/36 [==============================] - 0s 6ms/step - loss: 0.7693 - categorical_accuracy: 0.6665 - val_loss: 0.7933 - val_categorical_accuracy: 0.6481\n",
      "Epoch 53/60\n",
      "36/36 [==============================] - 0s 7ms/step - loss: 0.7677 - categorical_accuracy: 0.6684 - val_loss: 0.7930 - val_categorical_accuracy: 0.6505\n",
      "Epoch 54/60\n",
      "36/36 [==============================] - 0s 6ms/step - loss: 0.7672 - categorical_accuracy: 0.6674 - val_loss: 0.7931 - val_categorical_accuracy: 0.6511\n",
      "Epoch 55/60\n",
      "36/36 [==============================] - 0s 6ms/step - loss: 0.7666 - categorical_accuracy: 0.6671 - val_loss: 0.7926 - val_categorical_accuracy: 0.6511\n",
      "Epoch 56/60\n",
      "36/36 [==============================] - 0s 6ms/step - loss: 0.7662 - categorical_accuracy: 0.6669 - val_loss: 0.7926 - val_categorical_accuracy: 0.6524\n",
      "Epoch 57/60\n",
      "36/36 [==============================] - 0s 6ms/step - loss: 0.7658 - categorical_accuracy: 0.6676 - val_loss: 0.7933 - val_categorical_accuracy: 0.6527\n",
      "Epoch 58/60\n",
      "36/36 [==============================] - 0s 6ms/step - loss: 0.7679 - categorical_accuracy: 0.6689 - val_loss: 0.7945 - val_categorical_accuracy: 0.6538\n",
      "Epoch 59/60\n",
      "36/36 [==============================] - 0s 6ms/step - loss: 0.7638 - categorical_accuracy: 0.6704 - val_loss: 0.7924 - val_categorical_accuracy: 0.6541\n",
      "Epoch 60/60\n",
      "36/36 [==============================] - 0s 6ms/step - loss: 0.7636 - categorical_accuracy: 0.6700 - val_loss: 0.7940 - val_categorical_accuracy: 0.6534\n"
     ]
    }
   ],
   "source": [
    "history=model.fit(train_ds.shuffle(10000).batch(512),\n",
    "          epochs=60,\n",
    "          validation_data=valid_ds.batch(512))"
   ]
  },
  {
   "cell_type": "code",
   "execution_count": 16,
   "id": "e1c3f0ae",
   "metadata": {
    "execution": {
     "iopub.execute_input": "2022-04-30T20:24:37.327413Z",
     "iopub.status.busy": "2022-04-30T20:24:37.326989Z",
     "iopub.status.idle": "2022-04-30T20:24:37.758057Z",
     "shell.execute_reply": "2022-04-30T20:24:37.757385Z"
    },
    "papermill": {
     "duration": 0.606845,
     "end_time": "2022-04-30T20:24:37.759927",
     "exception": false,
     "start_time": "2022-04-30T20:24:37.153082",
     "status": "completed"
    },
    "tags": []
   },
   "outputs": [
    {
     "data": {
      "image/png": "[encoded data removed]",
      "text/plain": [
       "<Figure size 432x288 with 1 Axes>"
      ]
     },
     "metadata": {
      "needs_background": "light"
     },
     "output_type": "display_data"
    }
   ],
   "source": [
    "plt.plot(history.history['loss'],label='Training Data')\n",
    "plt.plot(history.history['val_loss'],label='Validation Data')\n",
    "plt.xlabel('Epochs')\n",
    "plt.ylabel('Loss')\n",
    "plt.legend()\n",
    "plt.show()"
   ]
  },
  {
   "cell_type": "code",
   "execution_count": 17,
   "id": "a0affe77",
   "metadata": {
    "execution": {
     "iopub.execute_input": "2022-04-30T20:24:37.967366Z",
     "iopub.status.busy": "2022-04-30T20:24:37.967101Z",
     "iopub.status.idle": "2022-04-30T20:24:38.175110Z",
     "shell.execute_reply": "2022-04-30T20:24:38.174409Z"
    },
    "papermill": {
     "duration": 0.314259,
     "end_time": "2022-04-30T20:24:38.177160",
     "exception": false,
     "start_time": "2022-04-30T20:24:37.862901",
     "status": "completed"
    },
    "tags": []
   },
   "outputs": [
    {
     "data": {
      "image/png": "[encoded data removed]",
      "text/plain": [
       "<Figure size 432x288 with 1 Axes>"
      ]
     },
     "metadata": {
      "needs_background": "light"
     },
     "output_type": "display_data"
    }
   ],
   "source": [
    "plt.plot(history.history['categorical_accuracy'],label='Training Data')\n",
    "plt.plot(history.history['val_categorical_accuracy'],label='Validation Data')\n",
    "plt.xlabel('Epochs')\n",
    "plt.ylabel('Accuracy')\n",
    "plt.legend()\n",
    "plt.show()"
   ]
  },
  {
   "cell_type": "code",
   "execution_count": 18,
   "id": "1af6aac7",
   "metadata": {
    "execution": {
     "iopub.execute_input": "2022-04-30T20:24:38.406172Z",
     "iopub.status.busy": "2022-04-30T20:24:38.405923Z",
     "iopub.status.idle": "2022-04-30T20:24:38.447211Z",
     "shell.execute_reply": "2022-04-30T20:24:38.446506Z"
    },
    "papermill": {
     "duration": 0.163748,
     "end_time": "2022-04-30T20:24:38.448810",
     "exception": false,
     "start_time": "2022-04-30T20:24:38.285062",
     "status": "completed"
    },
    "tags": []
   },
   "outputs": [
    {
     "name": "stdout",
     "output_type": "stream",
     "text": [
      "7/7 - 0s - loss: 0.7781 - categorical_accuracy: 0.6581\n"
     ]
    },
    {
     "data": {
      "text/plain": [
       "[0.7780953049659729, 0.6581246256828308]"
      ]
     },
     "execution_count": 18,
     "metadata": {},
     "output_type": "execute_result"
    }
   ],
   "source": [
    "model.evaluate(test_ds.batch(512),verbose=2)"
   ]
  }
 ],
 "metadata": {
  "kernelspec": {
   "display_name": "Python 3",
   "language": "python",
   "name": "python3"
  },
  "language_info": {
   "codemirror_mode": {
    "name": "ipython",
    "version": 3
   },
   "file_extension": ".py",
   "mimetype": "text/x-python",
   "name": "python",
   "nbconvert_exporter": "python",
   "pygments_lexer": "ipython3",
   "version": "3.7.12"
  },
  "papermill": {
   "default_parameters": {},
   "duration": 48.32344,
   "end_time": "2022-04-30T20:24:41.960806",
   "environment_variables": {},
   "exception": null,
   "input_path": "__notebook__.ipynb",
   "output_path": "__notebook__.ipynb",
   "parameters": {},
   "start_time": "2022-04-30T20:23:53.637366",
   "version": "2.3.4"
  }
 },
 "nbformat": 4,
 "nbformat_minor": 5
}
